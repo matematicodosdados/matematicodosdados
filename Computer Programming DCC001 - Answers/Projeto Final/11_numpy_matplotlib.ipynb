{
 "cells": [
  {
   "cell_type": "markdown",
   "metadata": {
    "colab_type": "text",
    "id": "vGguKYuQV_Gt"
   },
   "source": [
    "<div style=\"background-image: url(foto.png);background-repeat: no-repeat; background-size: 950px 65px;\">\n",
    "<b>\n",
    "<br>\n",
    "<font size=\"5\"><p style=\"text-align: center;\">Introdução à Programação de Computadores</p></font>\n",
    "</b>\n",
    "<br>\n",
    "<font size=\"4\"><b>Professores:</b> <br> Jefersson A. dos Santos - jefersson@dcc.ufmg.br\n",
    "<br>\n",
    "<font size=\"4\">João Guilherme Maia de Menezes - jgmm@dcc.ufmg.br\n",
    "</font>\n",
    "<font size=\"3\">\n",
    "\n",
    "</font>\n",
    "</div>"
   ]
  },
  {
   "cell_type": "markdown",
   "metadata": {
    "colab_type": "text",
    "id": "O-xX4EVUV_G0"
   },
   "source": [
    "# Capítulo 11 - Biblioteca Científicas: numpy e matplotlib"
   ]
  },
  {
   "cell_type": "markdown",
   "metadata": {
    "colab_type": "text",
    "id": "nA2y4pLrV_G2"
   },
   "source": [
    "# 1. Introdução\n",
    "---------------\n",
    "Nesta aula prática, estamos usando o Jupyter Notebook, que é um ambiente computacional interativo, no qual você poderá combinar execução de código, formatação de textos, matemática, gráficos e mídia. \n",
    "Para maiores informações consulte o link: [jupyter.org](https://jupyter.org/ \"Página jupyter.org\")\n",
    "\n",
    "**numpy e matplotlib** \n",
    "\n",
    "Hoje serão abordados dois pacotes do Python: o Numpy e o Matplotlib.\n",
    "\n",
    "Um pacote pode ser compreendido como uma biblioteca que fornece funcionalidades específicas e que, desta forma, permite estender o núcleo básico do Python.\n",
    "\n",
    "O **numpy**, por exemplo, é o pacote fundamental para computação científica do Python. A instalação básica do Python não inclui o Numpy (ele deve ser instalado separadamente). \n",
    "\n",
    "Já o **matplotlib** é um pacote (biblioteca) para plotar/desenhar gráficos no Python. Existem outros pacotes com a mesma finalidade, e o Matplotlib foi o escolhido para o curso, pois é um dos mais usados. Assim como o numpy, o matplotlib também não é instalado com a versão básica do Python (ele deve ser instalado separadamente).\n",
    "\n",
    "A instalação do Anaconda, que foi recomendada para este curso, inclui o Python e uma série de pacotes científicos, dentre eles o numpy e o matplotlib.\n",
    "\n",
    "Para ter uma noção dos pacotes instalados pelo Anaconda, execute no Prompt do Comando (do Anaconda) o comando:\n",
    "*conda list*\n",
    "\n",
    "Alternativamente, execute a célula abaixo:"
   ]
  },
  {
   "cell_type": "code",
   "execution_count": 0,
   "metadata": {
    "colab": {
     "base_uri": "https://localhost:8080/",
     "height": 1000
    },
    "colab_type": "code",
    "id": "5CFIuMrrV_G3",
    "outputId": "89b7cfe5-951d-44cf-a407-60f4e2ce5293",
    "scrolled": false
   },
   "outputs": [
    {
     "name": "stdout",
     "output_type": "stream",
     "text": [
      "\n",
      "Please wait a moment while I gather a list of all available modules...\n",
      "\n"
     ]
    },
    {
     "name": "stderr",
     "output_type": "stream",
     "text": [
      "/usr/local/lib/python3.6/dist-packages/IPython/kernel/__init__.py:13: ShimWarning: The `IPython.kernel` package has been deprecated since IPython 4.0.You should import from ipykernel or jupyter_client instead.\n",
      "  \"You should import from ipykernel or jupyter_client instead.\", ShimWarning)\n",
      "WARNING: AstropyDeprecationWarning: astropy.utils.compat.futures is now deprecated - use concurrent.futures instead [astropy.utils.compat.futures]\n"
     ]
    },
    {
     "data": {
      "application/javascript": [
       "window.genUID = function() {\n",
       "    return 'xxxxxxxx-xxxx-4xxx-yxxx-xxxxxxxxxxxx'.replace(/[xy]/g, function(c) {\n",
       "        var r = Math.random()*16|0, v = c == 'x' ? r : (r&0x3|0x8);\n",
       "        return v.toString(16);\n",
       "    });\n",
       "};\n",
       "\n",
       "\n",
       "define('graphWidget', [\"@jupyter-widgets/base\"], function (widget) {\n",
       "\n",
       "    var GraphView = widget.DOMWidgetView.extend({\n",
       "        render: function(){\n",
       "            var that = this;\n",
       "\n",
       "            var graphId = window.genUID();\n",
       "            var loadingId = 'loading-'+graphId;\n",
       "\n",
       "\n",
       "            var _graph_url = that.model.get('_graph_url');\n",
       "\n",
       "            // variable plotlyDomain in the case of enterprise\n",
       "            var url_parts = _graph_url.split('/');\n",
       "            var plotlyDomain = url_parts[0] + '//' + url_parts[2];\n",
       "\n",
       "            if(!('plotlyDomains' in window)){\n",
       "                window.plotlyDomains = {};\n",
       "            }\n",
       "            window.plotlyDomains[graphId] = plotlyDomain;\n",
       "\n",
       "            // Place IFrame in output cell div `$el`\n",
       "            that.$el.css('width', '100%');\n",
       "            that.$graph = $(['<iframe id=\"'+graphId+'\"',\n",
       "                             'src=\"'+_graph_url+'.embed\"',\n",
       "                             'seamless',\n",
       "                             'style=\"border: none;\"',\n",
       "                             'width=\"100%\"',\n",
       "                             'height=\"600\">',\n",
       "                             '</iframe>'].join(' '));\n",
       "            that.$graph.appendTo(that.$el);\n",
       "\n",
       "            that.$loading = $('<div id=\"'+loadingId+'\">Initializing...</div>')\n",
       "                            .appendTo(that.$el);\n",
       "\n",
       "            // for some reason the 'width' is being changed in IPython 3.0.0\n",
       "            // for the containing `div` element. There's a flicker here, but\n",
       "            // I was unable to fix it otherwise.\n",
       "            setTimeout(function ()  {\n",
       "                if (IPYTHON_VERSION === '3') {\n",
       "                    $('#' + graphId)[0].parentElement.style.width = '100%';\n",
       "                }\n",
       "            }, 500);\n",
       "\n",
       "            // initialize communication with the iframe\n",
       "            if(!('pingers' in window)){\n",
       "                window.pingers = {};\n",
       "            }\n",
       "\n",
       "            window.pingers[graphId] = setInterval(function() {\n",
       "                that.graphContentWindow = $('#'+graphId)[0].contentWindow;\n",
       "                that.graphContentWindow.postMessage({task: 'ping'}, plotlyDomain);\n",
       "            }, 200);\n",
       "\n",
       "            // Assign a message listener to the 'message' events\n",
       "            // from iframe's postMessage protocol.\n",
       "            // Filter the messages by iframe src so that the right message\n",
       "            // gets passed to the right widget\n",
       "            if(!('messageListeners' in window)){\n",
       "                 window.messageListeners = {};\n",
       "            }\n",
       "\n",
       "            window.messageListeners[graphId] = function(e) {\n",
       "                if(_graph_url.indexOf(e.origin)>-1) {\n",
       "                    var frame = document.getElementById(graphId);\n",
       "\n",
       "                    if(frame === null){\n",
       "                        // frame doesn't exist in the dom anymore, clean up it's old event listener\n",
       "                        window.removeEventListener('message', window.messageListeners[graphId]);\n",
       "                        clearInterval(window.pingers[graphId]);\n",
       "                    } else if(frame.contentWindow === e.source) {\n",
       "                        // TODO: Stop event propagation, so each frame doesn't listen and filter\n",
       "                        var frameContentWindow = $('#'+graphId)[0].contentWindow;\n",
       "                        var message = e.data;\n",
       "\n",
       "                        if('pong' in message && message.pong) {\n",
       "                            $('#loading-'+graphId).hide();\n",
       "                            clearInterval(window.pingers[graphId]);\n",
       "                            that.send({event: 'pong', graphId: graphId});\n",
       "                        } else if (message.type==='hover' ||\n",
       "                                   message.type==='zoom'  ||\n",
       "                                   message.type==='click' ||\n",
       "                                   message.type==='unhover') {\n",
       "\n",
       "                            // click and hover events contain all of the data in the traces,\n",
       "                            // which can be a very large object and may take a ton of time\n",
       "                            // to pass to the python backend. Strip out the data, and require\n",
       "                            // the user to call get_figure if they need trace information\n",
       "                            if(message.type !== 'zoom') {\n",
       "                                for(var i in message.points) {\n",
       "                                    delete message.points[i].data;\n",
       "                                    delete message.points[i].fullData;\n",
       "                                }\n",
       "                            }\n",
       "                            that.send({event: message.type, message: message, graphId: graphId});\n",
       "                        } else if (message.task === 'getAttributes') {\n",
       "                            that.send({event: 'getAttributes', response: message.response});\n",
       "                        }\n",
       "                    }\n",
       "                }\n",
       "            };\n",
       "\n",
       "            window.removeEventListener('message', window.messageListeners[graphId]);\n",
       "            window.addEventListener('message', window.messageListeners[graphId]);\n",
       "\n",
       "        },\n",
       "\n",
       "        update: function() {\n",
       "            // Listen for messages from the graph widget in python\n",
       "            var jmessage = this.model.get('_message');\n",
       "            var message = JSON.parse(jmessage);\n",
       "\n",
       "            // check for duplicate messages\n",
       "            if(!('messageIds' in window)){\n",
       "                window.messageIds = {};\n",
       "            }\n",
       "\n",
       "            if(!(message.uid in window.messageIds)){\n",
       "                // message hasn't been received yet, do stuff\n",
       "                window.messageIds[message.uid] = true;\n",
       "\n",
       "                if (message.fadeTo) {\n",
       "                    this.fadeTo(message);\n",
       "                } else {\n",
       "                    var plot = $('#' + message.graphId)[0].contentWindow;\n",
       "                    plot.postMessage(message, window.plotlyDomains[message.graphId]);\n",
       "                }\n",
       "            }\n",
       "\n",
       "            return GraphView.__super__.update.apply(this);\n",
       "        },\n",
       "\n",
       "        /**\n",
       "         * Wrapper for jquery's `fadeTo` function.\n",
       "         *\n",
       "         * @param message Contains the id we need to find the element.\n",
       "         */\n",
       "        fadeTo: function (message) {\n",
       "            var plot = $('#' + message.graphId);\n",
       "            plot.fadeTo(message.duration, message.opacity);\n",
       "        }\n",
       "    });\n",
       "\n",
       "    // Register the GraphView with the widget manager.\n",
       "    return {\n",
       "        GraphView: GraphView\n",
       "    }\n",
       "\n",
       "});\n",
       "\n",
       "//@ sourceURL=graphWidget.js\n"
      ],
      "text/plain": [
       "<IPython.core.display.Javascript object>"
      ]
     },
     "metadata": {
      "tags": []
     },
     "output_type": "display_data"
    },
    {
     "name": "stderr",
     "output_type": "stream",
     "text": [
      "/usr/local/lib/python3.6/dist-packages/psycopg2/__init__.py:144: UserWarning:\n",
      "\n",
      "The psycopg2 wheel package will be renamed from release 2.8; in order to keep installing from binary please use \"pip install psycopg2-binary\" instead. For details see: <http://initd.org/psycopg/docs/install.html#binary-install-from-pypi>.\n",
      "\n",
      "/usr/local/lib/python3.6/dist-packages/sklearn/externals/six.py:31: DeprecationWarning:\n",
      "\n",
      "The module is deprecated in version 0.21 and will be removed in version 0.23 since we've dropped support for Python 2.7. Please rely on the official version of six (https://pypi.org/project/six/).\n",
      "\n",
      "Using TensorFlow backend.\n"
     ]
    },
    {
     "data": {
      "text/html": [
       "<p style=\"color: red;\">\n",
       "The default version of TensorFlow in Colab will soon switch to TensorFlow 2.x.<br>\n",
       "We recommend you <a href=\"https://www.tensorflow.org/guide/migrate\" target=\"_blank\">upgrade</a> now \n",
       "or ensure your notebook will continue to use TensorFlow 1.x via the <code>%tensorflow_version 1.x</code> magic:\n",
       "<a href=\"https://colab.research.google.com/notebooks/tensorflow_version.ipynb\" target=\"_blank\">more info</a>.</p>\n"
      ],
      "text/plain": [
       "<IPython.core.display.HTML object>"
      ]
     },
     "metadata": {
      "tags": []
     },
     "output_type": "display_data"
    },
    {
     "name": "stderr",
     "output_type": "stream",
     "text": [
      "INFO:summarizer.preprocessing.cleaner:'pattern' package not found; tag filters are not available for English\n"
     ]
    },
    {
     "name": "stdout",
     "output_type": "stream",
     "text": [
      "WARNING:tensorflow:From /usr/local/lib/python3.6/dist-packages/sonnet/python/modules/util.py:63: The name tf.GraphKeys is deprecated. Please use tf.compat.v1.GraphKeys instead.\n",
      "\n"
     ]
    },
    {
     "name": "stderr",
     "output_type": "stream",
     "text": [
      "WARNING:tensorflow:From /usr/local/lib/python3.6/dist-packages/sonnet/python/modules/util.py:63: The name tf.GraphKeys is deprecated. Please use tf.compat.v1.GraphKeys instead.\n",
      "\n"
     ]
    },
    {
     "name": "stdout",
     "output_type": "stream",
     "text": [
      "WARNING:tensorflow:\n",
      "The TensorFlow contrib module will not be included in TensorFlow 2.0.\n",
      "For more information, please see:\n",
      "  * https://github.com/tensorflow/community/blob/master/rfcs/20180907-contrib-sunset.md\n",
      "  * https://github.com/tensorflow/addons\n",
      "  * https://github.com/tensorflow/io (for I/O related ops)\n",
      "If you depend on functionality not listed there, please file an issue.\n",
      "\n"
     ]
    },
    {
     "name": "stderr",
     "output_type": "stream",
     "text": [
      "WARNING:tensorflow:\n",
      "The TensorFlow contrib module will not be included in TensorFlow 2.0.\n",
      "For more information, please see:\n",
      "  * https://github.com/tensorflow/community/blob/master/rfcs/20180907-contrib-sunset.md\n",
      "  * https://github.com/tensorflow/addons\n",
      "  * https://github.com/tensorflow/io (for I/O related ops)\n",
      "If you depend on functionality not listed there, please file an issue.\n",
      "\n",
      "/usr/local/lib/python3.6/dist-packages/sklearn/externals/joblib/__init__.py:15: DeprecationWarning:\n",
      "\n",
      "sklearn.externals.joblib is deprecated in 0.21 and will be removed in 0.23. Please import this functionality directly from joblib, which can be installed with: pip install joblib. If this warning is raised when loading pickled models, you may need to re-serialize those models with scikit-learn 0.21+.\n",
      "\n"
     ]
    },
    {
     "name": "stdout",
     "output_type": "stream",
     "text": [
      "WARNING:tensorflow:From /usr/local/lib/python3.6/dist-packages/kfac/python/ops/utils.py:38: The name tf.assign is deprecated. Please use tf.compat.v1.assign instead.\n",
      "\n"
     ]
    },
    {
     "name": "stderr",
     "output_type": "stream",
     "text": [
      "WARNING:tensorflow:From /usr/local/lib/python3.6/dist-packages/kfac/python/ops/utils.py:38: The name tf.assign is deprecated. Please use tf.compat.v1.assign instead.\n",
      "\n"
     ]
    },
    {
     "name": "stdout",
     "output_type": "stream",
     "text": [
      "WARNING:tensorflow:From /usr/local/lib/python3.6/dist-packages/kfac/python/ops/optimizer.py:48: The name tf.train.GradientDescentOptimizer is deprecated. Please use tf.compat.v1.train.GradientDescentOptimizer instead.\n",
      "\n"
     ]
    },
    {
     "name": "stderr",
     "output_type": "stream",
     "text": [
      "WARNING:tensorflow:From /usr/local/lib/python3.6/dist-packages/kfac/python/ops/optimizer.py:48: The name tf.train.GradientDescentOptimizer is deprecated. Please use tf.compat.v1.train.GradientDescentOptimizer instead.\n",
      "\n"
     ]
    },
    {
     "name": "stdout",
     "output_type": "stream",
     "text": [
      "WARNING:tensorflow:From /usr/local/lib/python3.6/dist-packages/kfac/python/ops/optimizer.py:526: The name tf.train.Optimizer is deprecated. Please use tf.compat.v1.train.Optimizer instead.\n",
      "\n"
     ]
    },
    {
     "name": "stderr",
     "output_type": "stream",
     "text": [
      "WARNING:tensorflow:From /usr/local/lib/python3.6/dist-packages/kfac/python/ops/optimizer.py:526: The name tf.train.Optimizer is deprecated. Please use tf.compat.v1.train.Optimizer instead.\n",
      "\n"
     ]
    },
    {
     "name": "stdout",
     "output_type": "stream",
     "text": [
      "WARNING:tensorflow:From /usr/local/lib/python3.6/dist-packages/magenta/pipelines/statistics.py:131: The name tf.logging.info is deprecated. Please use tf.compat.v1.logging.info instead.\n",
      "\n"
     ]
    },
    {
     "name": "stderr",
     "output_type": "stream",
     "text": [
      "WARNING:tensorflow:From /usr/local/lib/python3.6/dist-packages/magenta/pipelines/statistics.py:131: The name tf.logging.info is deprecated. Please use tf.compat.v1.logging.info instead.\n",
      "\n"
     ]
    },
    {
     "name": "stdout",
     "output_type": "stream",
     "text": [
      "WARNING:tensorflow:From /usr/local/lib/python3.6/dist-packages/magenta/music/note_sequence_io.py:60: The name tf.python_io.TFRecordWriter is deprecated. Please use tf.io.TFRecordWriter instead.\n",
      "\n"
     ]
    },
    {
     "name": "stderr",
     "output_type": "stream",
     "text": [
      "WARNING:tensorflow:From /usr/local/lib/python3.6/dist-packages/magenta/music/note_sequence_io.py:60: The name tf.python_io.TFRecordWriter is deprecated. Please use tf.io.TFRecordWriter instead.\n",
      "\n"
     ]
    },
    {
     "name": "stdout",
     "output_type": "stream",
     "text": [
      "WARNING:tensorflow:Failed to load tensor2tensor\n"
     ]
    },
    {
     "name": "stderr",
     "output_type": "stream",
     "text": [
      "WARNING:tensorflow:Failed to load tensor2tensor\n"
     ]
    },
    {
     "name": "stdout",
     "output_type": "stream",
     "text": [
      "Downloading http://dlib.net/files/shape_predictor_68_face_landmarks.dat.bz2 to /root/mlxtend_data/shape_predictor_68_face_landmarks.dat.bz2\n"
     ]
    },
    {
     "name": "stderr",
     "output_type": "stream",
     "text": [
      "/usr/lib/python3.6/pkgutil.py:92: UserWarning:\n",
      "\n",
      "The DICOM readers are highly experimental, unstable, and only work for Siemens time-series at the moment\n",
      "Please use with caution.  We would be grateful for your help in improving them\n",
      "\n",
      "/usr/local/lib/python3.6/dist-packages/nltk/twitter/__init__.py:20: UserWarning:\n",
      "\n",
      "The twython library has not been installed. Some functionality from the twitter package will not be available.\n",
      "\n",
      "Exception ignored in: <_io.FileIO name='/usr/local/lib/python3.6/dist-packages/theano/gof/c_code/lazylinker_c.c' mode='rb' closefd=True>\n",
      "ResourceWarning: unclosed file <_io.TextIOWrapper name='/usr/local/lib/python3.6/dist-packages/theano/gof/c_code/lazylinker_c.c' mode='r' encoding='UTF-8'>\n",
      "WARNING:pystan:This submodule contains experimental code, please use with caution\n"
     ]
    }
   ],
   "source": [
    "print(help(\"modules\"))"
   ]
  },
  {
   "cell_type": "markdown",
   "metadata": {
    "colab_type": "text",
    "id": "6XcIXnt6V_G8"
   },
   "source": [
    "\n",
    "Nas próximas seções faremos uma introdução ao numpy.\n",
    "\n",
    "Antes de prosseguir, no entanto, é importante relembrar alguns conceitos importantes das listas.\n",
    "\n",
    "**1.1 Listas**\n",
    "\n",
    "Uma lista (**list**) é o equivalente do Python para um array, sendo que pode ser redimensionado e pode conter elementos de tipos diferentes.\n",
    "\n",
    "Execute o código abaixo e preste atenção aos comentários de cada linha e a saída que ela gera."
   ]
  },
  {
   "cell_type": "code",
   "execution_count": 0,
   "metadata": {
    "colab": {},
    "colab_type": "code",
    "id": "znXtSgDAV_HB",
    "scrolled": true
   },
   "outputs": [],
   "source": [
    "#listas - relembrando algumas propriedades\n",
    "xs = [3, 1, 2]       # Cria uma lista\n",
    "print(xs, xs[2])     # Imprime \"[3, 1, 2] 2\"\n",
    "print(xs[-1])        # Indices negativos contam a partir do final da lista: imprime \"2\"\n",
    "xs[2] = 'minas'      # Listas podem conter elementos de tipos diferentes\n",
    "print(xs)            # Imprime \"[3, 1, 'minas']\"\n",
    "xs.append('gerais')  # Adiciona novo elemento ao fim da lista\n",
    "print(xs)            # Imprime  \"[3, 1, 'minas', 'gerais']\"\n",
    "x = xs.pop()         # Remove e retorna o último elemento da lista\n",
    "print(x, xs)         # Imprime \"gerais [3, 1, 'minas']\"\n"
   ]
  },
  {
   "cell_type": "markdown",
   "metadata": {
    "colab_type": "text",
    "id": "mVJccLXHV_HF"
   },
   "source": [
    "**Fatiamento de listas**: além de poder acessar um elemento de cada vez, o Python possui uma notação concisa para permitir o acesso a sublistas, que é conhecida como fatiamento (*slicing*).\n"
   ]
  },
  {
   "cell_type": "code",
   "execution_count": 0,
   "metadata": {
    "colab": {},
    "colab_type": "code",
    "id": "MYkf-WfxV_HG"
   },
   "outputs": [],
   "source": [
    "nums = list(range(5))     # range is a função pré-definida que cria uma lista de inteiros\n",
    "print(nums)               # imprime \"[0, 1, 2, 3, 4]\"\n",
    "print(nums[2:4])          # obtém uma fatia do índice 2 ao 4 (**exclusive**); imprime \"[2, 3]\"\n",
    "print(nums[2:])           # obtém uma fatia do índice 2 até o final; imprime \"[2, 3, 4]\"\n",
    "print(nums[:2])           # obtém uma fatia do início até o índice 2 (exclusive); imprime \"[0, 1]\"\n",
    "print(nums[:])            # obtém uma fatia da lista toda; imprime \"[0, 1, 2, 3, 4]\"\n",
    "print(nums[:-1])          # indices do fatiamento podem ser negativos; imprime \"[0, 1, 2, 3]\"\n",
    "nums[2:4] = [8, 9]        # atribui uma nova sublista à fatia\n",
    "print(nums)               # imprime \"[0, 1, 8, 9, 4]\"\n"
   ]
  },
  {
   "cell_type": "markdown",
   "metadata": {
    "colab_type": "text",
    "id": "XEWR9p9LV_HI"
   },
   "source": [
    "**Exercício 1**\n",
    "\n",
    "Dada a lista abaixo:\n",
    "```python\n",
    "lista1 = [0, 1, 2, 3, 2, 1, 0]\n",
    "```\n",
    "determine o fatiamento que produza a lista [2, 3, 2] e imprima"
   ]
  },
  {
   "cell_type": "code",
   "execution_count": 0,
   "metadata": {
    "colab": {},
    "colab_type": "code",
    "id": "WZc5XI9mV_HJ"
   },
   "outputs": [],
   "source": [
    "#Exercício 1 - faça sua reposta nessa célula\n",
    "\n",
    "lista1 = [0, 1, 2, 3, 2, 1, 0]\n",
    "\n",
    "# crie o código aqui"
   ]
  },
  {
   "cell_type": "markdown",
   "metadata": {
    "colab_type": "text",
    "id": "Jd9JIX0xV_HM"
   },
   "source": [
    "\n",
    "Uma questão interessante sobre as listas (que também vale para dicionários e alguns objetos do Python) é que quando você atribui uma lista a outra, as duas passam a *apontar* para os mesmos valores.\n",
    "\n",
    "Verifique com atenção os comentários do código abaixo:\n"
   ]
  },
  {
   "cell_type": "code",
   "execution_count": 0,
   "metadata": {
    "colab": {},
    "colab_type": "code",
    "id": "MRjDY0IaV_HN"
   },
   "outputs": [],
   "source": [
    "lista1 = [1, 2, 3, 4]\n",
    "print(lista1)         # vai imprimir [1, 2, 3, 4]\n",
    "\n",
    "lista2 = lista1       # essa atribuição faz com que lista2 aponte para os mesmos valores de lista1\n",
    "                      # dessa forma, qualquer alteração em lista2 será refletida em lista1\n",
    "                \n",
    "print(lista2)         # vai imprimir [1, 2, 3, 4]\n",
    "\n",
    "lista2.append(10)     # adiciona 10 ao último elemento da lista\n",
    "\n",
    "print(lista2)         # vai imprimir [1, 2, 3, 4, 10]\n",
    "print(lista1)         # vai imprimir [1, 2, 3, 4, 10]\n",
    "\n",
    "# para evitar esse comportamento, a atriuição deve ser feita com a função list()\n",
    "lista1 = [1, 2, 3, 4]\n",
    "print(lista1)         # vai imprimir [1, 2, 3, 4]\n",
    "lista2 = list(lista1) # nesse caso, uma copia dos valores de lista1 é criada separadamente para lista2\n",
    "print(lista2)         # vai imprimir [1, 2, 3, 4]\n",
    "\n",
    "lista2.append(10)     # adiciona 10 ao último elemento da lista\n",
    "\n",
    "print(lista2)         # vai imprimir [1, 2, 3, 4, 10]\n",
    "print(lista1)         # vai imprimir [1, 2, 3, 4]\n"
   ]
  },
  {
   "cell_type": "markdown",
   "metadata": {
    "colab_type": "text",
    "id": "Oq7o4DGBV_HU"
   },
   "source": [
    "\n",
    "# 2. Numpy\n",
    "---------------\n",
    "\n",
    "O [Numpy](http://www.numpy.org/) é a principal biblioteca de computação científica do Python.\n",
    "Ela fornece um objeto de array multidimensional de alta performance, bem como ferramentas para trabalhar com esses arrays.\n",
    "\n",
    "Um array do numpy é um grid (grade) de valores, **todos do mesmo tipo**, e é indexado por uma tupla de inteiros não negativos.\n",
    "\n",
    "O número de dimensões é o *rank* do array.\n",
    "\n",
    "O *shape* (formato) de um array é uma tupla de inteiros indicando o tamanho do array em cada dimensão.\n",
    "\n",
    "O código da célula abaixo ilustra esses conceitos e fornece exemplos de inicialização de arrays do numpy.\n",
    "\n",
    "**Clique na célula e execute o código (CTRL+ENTER)**. Altere os valores e analise os resultados."
   ]
  },
  {
   "cell_type": "code",
   "execution_count": 0,
   "metadata": {
    "colab": {},
    "colab_type": "code",
    "id": "SjIptASfV_HV"
   },
   "outputs": [],
   "source": [
    "# numpy código 1\n",
    "\n",
    "\"\"\"\n",
    " O import permite que o nosso programa utilize um pacote.\n",
    " No comando abaixo, fazemos o import do numpy e chamaremos \n",
    " ele de np no nosso programa\n",
    "\"\"\"\n",
    "\n",
    "import numpy as np\n",
    "\n",
    "a = np.array([1, 2, 3])   # cria um array de rank 1 (um vetor)\n",
    "\n",
    "print(\"\\nArray rank 1:\")\n",
    "print(a)                  # imprime \"[1, 2, 3]\"\n",
    "print(\"\\nTipo:\")\n",
    "print(type(a))            # imprime \"<class 'numpy.ndarray'>\"\n",
    "print(\"\\nShape:\")\n",
    "print(a.shape)            # imprime \"(3,)\"\n",
    "a[0] = 5                  # muda um elemento do array \n",
    "print(\"\\nElementos:\")\n",
    "print(a[0], a[1], a[2])   # imprime \"5 2 3\"\n",
    "\n",
    "b = np.array([[1,2,3],[4,5,6]])    # cria um array de rank 2 (uma matriz)\n",
    "print(\"\\nArray rank 2:\")\n",
    "print(b)\n",
    "print(\"\\nShape:\")\n",
    "print(b.shape)                     # imprime \"(2, 3)\"\n",
    "print(\"\\nAlguns elementos:\")\n",
    "print(b[0, 0], b[0, 1], b[1, 0])   # imprime \"1 2 4\"\n"
   ]
  },
  {
   "cell_type": "markdown",
   "metadata": {
    "colab_type": "text",
    "collapsed": true,
    "id": "-3Q3nShEV_HY"
   },
   "source": [
    "\n",
    "Você pode especificar o tipo de dado do array na sua criação, usando o parâmetro dtype), veja exemplos a seguir:\n"
   ]
  },
  {
   "cell_type": "code",
   "execution_count": 0,
   "metadata": {
    "colab": {},
    "colab_type": "code",
    "id": "FHmMVrEiV_HZ"
   },
   "outputs": [],
   "source": [
    "# numpy código 2\n",
    "\n",
    "import numpy as np\n",
    "print(\"\\nfloat64:\")\n",
    "x = np.array([[1,2],[3,4]], dtype=np.float64)\n",
    "print(x)\n",
    "print(\"\\nint64:\")\n",
    "y = np.array([[1,2],[3,4]], dtype=np.int64)\n",
    "print(y)\n",
    "print(\"\\nint32:\")\n",
    "z = np.array([[1,2],[3,4]], dtype=np.int32)\n",
    "print(z)"
   ]
  },
  {
   "cell_type": "markdown",
   "metadata": {
    "colab_type": "text",
    "id": "JmgtnoU2V_Hb"
   },
   "source": [
    "**Exercício 2**\n",
    "\n",
    "a) Crie um array do numpy com 3 linhas e 2 colunas (cmo valores que você escolher)\n",
    "\n",
    "b) Imprima o array\n",
    "\n",
    "c) Imprima o formato (shape) do array\n",
    "\n",
    "d) Imprima o rank do array\n",
    " \n",
    "e) Imprima o primeiro elemento da primeira linha e o último elemento da última linha\n"
   ]
  },
  {
   "cell_type": "code",
   "execution_count": 0,
   "metadata": {
    "colab": {},
    "colab_type": "code",
    "id": "VC3WAq51V_Hc"
   },
   "outputs": [],
   "source": [
    "# Exercício 2 - faça sua resposta nessa célula\n",
    "\n",
    "# a) Crie um array do numpy com 3 linhas e 2 colunas (cmo valores que você escolher)\n",
    "\n",
    "\n",
    "# b) Imprima o array\n",
    "\n",
    "\n",
    "# c) Imprima o formato (shape) do array\n",
    "\n",
    "\n",
    "# d) Imprima o rank do array\n",
    "\n",
    "\n",
    "# e) Imprima o primeiro elemento da primeira linha e o último elemento da última linha\n",
    "\n"
   ]
  },
  {
   "cell_type": "markdown",
   "metadata": {
    "colab_type": "text",
    "id": "AsXkZI-RV_Hi"
   },
   "source": [
    "\n",
    " \n",
    " \n",
    "O Numpy também fornece funções para criação de arrays:\n"
   ]
  },
  {
   "cell_type": "code",
   "execution_count": 0,
   "metadata": {
    "colab": {},
    "colab_type": "code",
    "id": "mfnPEL5bV_Hj"
   },
   "outputs": [],
   "source": [
    "# numpy código 3\n",
    "\n",
    "import numpy as np\n",
    "\n",
    "a = np.zeros((2,2))   # cria um array de 2 linhas e 2 duas colunas\n",
    "                      # e inicializa todos elementos com valor zero\n",
    "\n",
    "print(a)              # imprime \"[[ 0.  0.]\n",
    "                      #           [ 0.  0.]]\"\n",
    "print(\"--------------------------------------------\")\n",
    "b = np.ones((1,2))    # cria um array de 1 linha e 2 duas colunas\n",
    "                      # e inicializa todos elementos com valor 1.0\n",
    "print(b)              # imprime \"[[ 1.  1.]]\"\n",
    "print(\"--print(a)------------------------------------------\")\n",
    "c = np.full((2,2), 7)  # cria um array de 2 linhas e 2 duas colunas\n",
    "                       # e inicializa todos elementos com a constante 7.\n",
    "print(c)               # imprime  \"[[ 7.  7.]\n",
    "                       #            [ 7.  7.]]\"\n",
    "print(\"--------------------------------------------\")\n",
    "d = np.eye(2)         # cria uma matriz identidade de 2 linhas e 2 duas colunas\n",
    "print(d)              # imprime \"[[ 1.  0.]\n",
    "                      #           [ 0.  1.]]\"\n",
    "print(\"--------------------------------------------\")\n",
    "e = np.random.random((2,3))  # cria um array de 2 linhas e 3 colunas com valores randômicos\n",
    "print(e)                     # imprime algo como \"[[ 0.50850175  0.56783854  0.66564824]\n",
    "                             #                     [ 0.91887667  0.45616976  0.08625947]]\n"
   ]
  },
  {
   "cell_type": "markdown",
   "metadata": {
    "colab_type": "text",
    "id": "eikd0oeYV_Hm"
   },
   "source": [
    "Por fim, também é possível criar um array vazio e acrescentar as linhas *programaticamente*, mas a sintaxe é bem diferente das listas porque os arrays podem ter muitas dimensões:"
   ]
  },
  {
   "cell_type": "code",
   "execution_count": 0,
   "metadata": {
    "colab": {},
    "colab_type": "code",
    "id": "a5FHoiUOV_Hn"
   },
   "outputs": [],
   "source": [
    "# numpy código 4\n",
    "\n",
    "# Cria um array de rank 1 vazio e acrescenta elementos\n",
    "\n",
    "print(\"Vetor:\")\n",
    "vetor = np.empty((0), dtype=np.float64)\n",
    "print(\"Acrescenta um elemento:\")\n",
    "vetor = np.append(vetor, [0.])\n",
    "print(vetor)\n",
    "print(\"Acrescenta vários elementos de uma vez:\")\n",
    "vetor = np.append(vetor, [1., 2., 3.])\n",
    "print(vetor)\n",
    "\n",
    "\n",
    "# Cria um array de rank 2 vazio e acrescenta linhas\n",
    "print(\"\\nMatriz:\")\n",
    "matriz = np.empty((0, 3), dtype=np.float64)\n",
    "print(\"Acrescenta uma linha:\")\n",
    "matriz = np.append(matriz, [[0., 1., 2.]], axis=0)\n",
    "print(matriz)\n",
    "print(\"Acrescenta várias linhas de uma vez:\")\n",
    "matriz = np.append(matriz, [[3., 4., 5.], [6., 7., 8.], [9., 10., 11.]], axis=0)\n",
    "print(matriz)\n"
   ]
  },
  {
   "cell_type": "markdown",
   "metadata": {
    "colab_type": "text",
    "id": "R6YU513vV_Hp"
   },
   "source": [
    "\n",
    "**2.1 Indexação de Arrays (acesso aos elementos do array)**\n",
    "\n",
    "O Numpy oferece vários modos de acessar os elementos do array.\n",
    "\n",
    "**Fatiamento**: de modo semelhante às listas do Python, os arrays do numpy podem ser fatiados. Como os arrays do numpy podem ser multidimensionais, você precisa especificar *a fatia* de cada dimensão do array:\n"
   ]
  },
  {
   "cell_type": "code",
   "execution_count": 0,
   "metadata": {
    "colab": {},
    "colab_type": "code",
    "id": "036OaasLV_Hq",
    "scrolled": false
   },
   "outputs": [],
   "source": [
    "# numpy código 5\n",
    "\n",
    "import numpy as np\n",
    "\n",
    "# cria o seguinte array com shape(3, 4)\n",
    "# [[ 1  2  3  4]\n",
    "#  [ 5  6  7  8]\n",
    "#  [ 9 10 11 12]]\n",
    "a = np.array([[1,2,3,4], [5,6,7,8], [9,10,11,12]])\n",
    "\n",
    "# usa fatiamento para obter o subarray com os elementos \n",
    "# das primeiras 2 linhas e das colunas 1 e 2.\n",
    "# o subarray é atribuído a slice_de_a\n",
    "# [[2 3]\n",
    "#  [6 7]]\n",
    "slice_de_a = a[:2, 1:3]\n",
    "print(\"\\nslice_de_a\")\n",
    "print(slice_de_a)\n",
    "print(\"\")\n",
    "\n",
    "# Uma fatia de um array é uma visão dos mesmos dados, então as \n",
    "# modificações são refletidas no array original.\n",
    "print(a[0, 1])         # imprime \"2\"\n",
    "slice_de_a[0, 0] = 77  # slice_de_a[0, 0] é o mesmo dado de a[0, 1]\n",
    "print(\"\\nslice_de_a\")\n",
    "print(slice_de_a)\n",
    "print(\"\")\n",
    "print(a[0, 1])         # imprime \"77\"\n",
    "\n",
    "# esse comportamento é desejável em muitas situações\n",
    "# se fosse necessário criar uma cópia independente, poderia ser\n",
    "# utilizado o construtor np.array(), conforme exemplo abaixo:\n",
    "novo_array = np.array(a[:2, 1:3])\n",
    "print(a[0, 1])         # imprime \"77\"\n",
    "novo_array[0, 0] = 81  # slice_de_a[0, 0] é o mesmo dado de a[0, 1]\n",
    "print(\"\\nnovo_array\")\n",
    "print(novo_array)\n",
    "print(\"\")\n",
    "print(a[0, 1])         # imprime \"77\"\n"
   ]
  },
  {
   "cell_type": "markdown",
   "metadata": {
    "colab_type": "text",
    "id": "ZmtvLZKLV_Hz"
   },
   "source": [
    "**Exercício 3**\n",
    "\n",
    "Dado um array ar, de 5 linhas e 4 colunas:<br>\n",
    "[[0, 0, 0, 0],<br>\n",
    " [0, 0, 0, 0],<br>\n",
    " [0, 1, 2, 0],<br>\n",
    " [0, 3, 4, 0],<br>\n",
    " [0, 0, 0, 0]]\n",
    "\n",
    "Faça um fatiamento que produza o subarray:<br>\n",
    "[[1, 2],<br>\n",
    " [3, 4]]"
   ]
  },
  {
   "cell_type": "code",
   "execution_count": 0,
   "metadata": {
    "colab": {},
    "colab_type": "code",
    "id": "f1eX_v12V_H0"
   },
   "outputs": [],
   "source": [
    "# Exercício 3 - faça sua resposta nessa célula\n",
    "\n",
    "import numpy as np\n",
    "\n",
    "ar = np.array([[0, 0, 0, 0],\n",
    "               [0, 0, 0, 0],\n",
    "               [0, 1, 2, 0],\n",
    "               [0, 3, 4, 0],\n",
    "               [0, 0, 0, 0]])\n",
    "\n",
    "# crie o seu código aqui\n"
   ]
  },
  {
   "cell_type": "markdown",
   "metadata": {
    "colab_type": "text",
    "id": "YYsNkkeTV_H3"
   },
   "source": [
    "\n",
    "**Indexação inteira com fatiamento**: você também pode usar indexação inteira com fatiamento, mas o subarray produzido terá rank menor que o original."
   ]
  },
  {
   "cell_type": "code",
   "execution_count": 0,
   "metadata": {
    "colab": {},
    "colab_type": "code",
    "id": "0oJ_OQhlV_H4",
    "scrolled": true
   },
   "outputs": [],
   "source": [
    "!# numpy código 6\n",
    "\n",
    "import numpy as np\n",
    "\n",
    "# cria o seguinte array com shape(3, 4)\n",
    "# [[ 1  2  3  4]\n",
    "#  [ 5  6  7  8]\n",
    "#  [ 9 10 11 12]]\n",
    "a = np.array([[1,2,3,4], [5,6,7,8], [9,10,11,12]])\n",
    "\n",
    "# Two ways of accessing the data in the middle row of the array.\n",
    "# Mixing integer indexing with slices yields an array of lower rank,\n",
    "# while using only slices yields an array of the same rank as the\n",
    "# original array:\n",
    "linha_r1 = a[1, :]    # visão da 2a linha (com Rank 1)\n",
    "linha_r2 = a[1:2, :]  # visão da 2a linha (com Rank 2)\n",
    "print(linha_r1, linha_r1.shape)  # imprime \"[5 6 7 8] (4,)\"\n",
    "print(linha_r2, linha_r2.shape)  # imprime \"[[5 6 7 8]] (1, 4)\"\n",
    "\n",
    "# podemos fazer a mesma coisa com colunas\n",
    "col_r1 = a[:, 1]\n",
    "col_r2 = a[:, 1:2]\n",
    "print(col_r1, col_r1.shape)  # imprime \"[ 2  6 10] (3,)\"\n",
    "print(col_r2, col_r2.shape)  # imprime \"[[ 2]\n",
    "                             #          [ 6]\n",
    "                             #          [10]] (3, 1)\"\n"
   ]
  },
  {
   "cell_type": "markdown",
   "metadata": {
    "colab_type": "text",
    "id": "qXms9LAeV_H8"
   },
   "source": [
    "\n",
    "**Indexação boleana**: você também pode usar indexação com base no valor dos elementos da matriz.\n",
    "\n",
    "No exemplo abaixo, vamos zerar* todos os elementos negativos da matriz.\n",
    "\n"
   ]
  },
  {
   "cell_type": "code",
   "execution_count": 0,
   "metadata": {
    "colab": {},
    "colab_type": "code",
    "id": "kqw70yZjV_H_"
   },
   "outputs": [],
   "source": [
    "# numpy código 7\n",
    "\n",
    "import numpy as np\n",
    "\n",
    "a = np.array([[21,-6], [43, 14], [-5, 36]])\n",
    "\n",
    "print (\"Array original:\")\n",
    "print(a)\n",
    "\n",
    "a[a<0] = 0\n",
    "\n",
    "print (\"Depois da alteração:\")\n",
    "print(a)\n"
   ]
  },
  {
   "cell_type": "markdown",
   "metadata": {
    "colab_type": "text",
    "collapsed": true,
    "id": "sZwEQGL6V_IC"
   },
   "source": [
    "\n",
    "**2.2 Operações matemáticas**\n",
    "\n",
    "Operações matemáticas básicas operam elemento a elemento nos arrays.\n",
    "Essas operações podem ser feitas usando os operadores (+, -, \\*, etc) ou através de funções (np.add(), np.subtract(), np.multiply(), etc)\n",
    "\n",
    "**Arrays e constantes**: as operações mais simples são com constantes, onde é possível, por exemplo, somar uma constante a todos elementos do array ou multiplicar todos os elementos por uma constante.\n"
   ]
  },
  {
   "cell_type": "code",
   "execution_count": 0,
   "metadata": {
    "colab": {},
    "colab_type": "code",
    "id": "D0tV9io0V_ID"
   },
   "outputs": [],
   "source": [
    "# numpy código 8\n",
    "\n",
    "#operações com constantes\n",
    "\n",
    "x = np.array([[1,2],[3,4]])\n",
    "print(\"Array x:\")\n",
    "print(x)\n",
    "y = x + 10\n",
    "print(\"Array y (x + 10):\")\n",
    "print(y)\n",
    "x = x*10\n",
    "print(\"Array x multiplicado por 10:\")\n",
    "print(x)\n"
   ]
  },
  {
   "cell_type": "markdown",
   "metadata": {
    "colab_type": "text",
    "id": "nbkkKb77V_II"
   },
   "source": [
    "**Operações com arrays**: essas operações envolvem dois ou mais arrays."
   ]
  },
  {
   "cell_type": "code",
   "execution_count": 0,
   "metadata": {
    "colab": {},
    "colab_type": "code",
    "id": "duMIANH1V_IJ",
    "scrolled": true
   },
   "outputs": [],
   "source": [
    "# numpy código 9\n",
    "\n",
    "#operações com arrays\n",
    "\n",
    "import numpy as np\n",
    "\n",
    "x = np.array([[1,2],[3,4]], dtype=np.float64)\n",
    "y = np.array([[5,6],[7,8]], dtype=np.float64)\n",
    "\n",
    "# soma elemento a elemento; ambas produzem o array:\n",
    "# [[ 6.0  8.0]\n",
    "#  [10.0 12.0]]\n",
    "print(x + y)\n",
    "print(np.add(x, y))\n",
    "\n",
    "# subtração elemento a elemento; ambas produzem o array:\n",
    "# [[-4.0 -4.0]\n",
    "#  [-4.0 -4.0]]\n",
    "print(x - y)\n",
    "print(np.subtract(x, y))\n",
    "\n",
    "# multiplicação elemento a elemento (diferente da multiplicação de matrizes)\n",
    "# ambos produzem o array:\n",
    "# [[ 5.0 12.0]\n",
    "#  [21.0 32.0]]\n",
    "print(x * y)\n",
    "print(np.multiply(x, y))\n",
    "\n",
    "# divisão elemento a elemento; ambas produzem o array:\n",
    "# [[ 0.2         0.33333333]\n",
    "#  [ 0.42857143  0.5       ]]\n",
    "print(x / y)\n",
    "print(np.divide(x, y))\n",
    "\n",
    "# raiz quadrada elemento a elemento\n",
    "# [[ 1.          1.41421356]\n",
    "#  [ 1.73205081  2.        ]]\n",
    "print(np.sqrt(x))\n",
    "\n"
   ]
  },
  {
   "cell_type": "markdown",
   "metadata": {
    "colab_type": "text",
    "collapsed": true,
    "id": "OfSxI-45V_IV"
   },
   "source": [
    "\n",
    "O Numpy fornece uma função específica para a multiplicação de matrizes, que é a função **dot**:"
   ]
  },
  {
   "cell_type": "code",
   "execution_count": 0,
   "metadata": {
    "colab": {},
    "colab_type": "code",
    "id": "p-gHFDtPV_IY"
   },
   "outputs": [],
   "source": [
    "# numpy código 10\n",
    "\n",
    "import numpy as np\n",
    "\n",
    "x = np.array([[1,2],[3,4]])\n",
    "y = np.array([[5,6],[7,8]])\n",
    "\n",
    "v = np.array([9,10])\n",
    "w = np.array([11, 12])\n",
    "\n",
    "# Produto interno de vetores, ambos produzem 219\n",
    "print(v.dot(w))\n",
    "print(np.dot(v, w))\n",
    "\n",
    "# Produto de Matrix / vetor; ambos produzem o array de rank 1 [29 67]\n",
    "print(x.dot(v))\n",
    "print(np.dot(x, v))\n",
    "\n",
    "# Produto de Matrix / matrix; ambos produzem o array de rank 2\n",
    "# [[19 22]\n",
    "#  [43 50]]\n",
    "print(x.dot(y))\n",
    "print(np.dot(x, y))\n"
   ]
  },
  {
   "cell_type": "markdown",
   "metadata": {
    "colab_type": "text",
    "collapsed": true,
    "id": "XOfz100vV_Ia"
   },
   "source": [
    "\n",
    "O Numpy fornece várias funções para realizar computações em arrays, uma das mais úteis é a função **sum**:"
   ]
  },
  {
   "cell_type": "code",
   "execution_count": 0,
   "metadata": {
    "colab": {},
    "colab_type": "code",
    "id": "hwspsFEAV_Ib",
    "scrolled": true
   },
   "outputs": [],
   "source": [
    "# numpy código 11\n",
    "\n",
    "import numpy as np\n",
    "\n",
    "x = np.array([[1,2, 3, 4],[10, 20, 30, 40]], dtype=np.int64)\n",
    "\n",
    "print(\"Array:\")\n",
    "print(x)\n",
    "\n",
    "print(\"Soma de todos elementos de x: \")\n",
    "print(np.sum(x))  \n",
    "print(\"Soma dos elementos de cada coluna:\")\n",
    "print(np.sum(x, axis=0))\n",
    "print(\"Soma dos elementos de cada linha:\")\n",
    "print(np.sum(x, axis=1)) \n"
   ]
  },
  {
   "cell_type": "markdown",
   "metadata": {
    "colab_type": "text",
    "id": "2V0TE7ADV_Id"
   },
   "source": [
    "**Exercício 4**\n",
    "\n",
    "    \n",
    "a) Crie um array do numpy, com duas linhas e 5 colunas com valores float (não esqueça de usar o parâmetro **dtype**) de sua escolha.\n",
    "\n",
    "E imprima:\n",
    "\n",
    "b) a soma dos elementos das linhas do array\n",
    "\n",
    "c) a multiplicação dos elementos das colunas do array\n",
    "\n",
    "d) a média de todos elementos do array\n",
    "\n",
    "e) a média dos elementos das linhas do array\n",
    "\n",
    "f) a média dos elementos das colunas do array\n",
    "\n",
    "g) o desvio padrão de todos elementos do array\n",
    "\n",
    "h) o desvio padrão das linhas do array\n",
    "\n",
    "i) o desvio padrão dos elementos das colunas do array\n",
    "\n",
    "**Obs.: para o desvio padrão, utilize a função *std***.\n",
    "\n",
    "Para verificar uma lista de funções úteis ofrnecidas pelo numpy, [consulte a documentação](http://docs.scipy.org/doc/numpy/reference/routines.math.html).\n",
    "\n"
   ]
  },
  {
   "cell_type": "code",
   "execution_count": 28,
   "metadata": {
    "colab": {},
    "colab_type": "code",
    "id": "8PoXtzeLV_Ie"
   },
   "outputs": [
    {
     "name": "stdout",
     "output_type": "stream",
     "text": [
      "Array:\n",
      " [[ 1.  2.  3.  4.  5.]\n",
      " [ 6.  7.  8.  9. 10.]]\n",
      "Soma dos elementos das linhas do array:\n",
      " [[15.]\n",
      " [40.]]\n",
      "Multiplicação dos elementos das colunas do array:\n",
      " [[ 6. 14. 24. 36. 50.]]\n",
      "Média de todos elementos do array:\n",
      " 5.5\n",
      "Média dos elementos das linhas do array:\n",
      " [[3.]\n",
      " [8.]]\n",
      "Média dos elementos das colunas do array:\n",
      " [[3.5 4.5 5.5 6.5 7.5]]\n",
      "Desvio padrão de todos elementos do array:\n",
      " 2.8722813232690143\n",
      "Desvio padrão das linhas do array:\n",
      " [[1.41421356]\n",
      " [1.41421356]]\n",
      "Desvio padrão das colunas do array:\n",
      " [[2.5 2.5 2.5 2.5 2.5]]\n"
     ]
    }
   ],
   "source": [
    "# Exercício 4 - faça sua resposta nessa célula\n",
    "\n",
    "import numpy as np\n",
    " \n",
    "# a) Crie um array do numpy, com duas linhas e 5 colunas com valores \n",
    "#    float (não esqueça de usar o parâmetro **dtype**) de sua escolha.\n",
    "\n",
    "array = np.array([[1, 2, 3, 4, 5], [6, 7, 8, 9, 10]], dtype=np.float64)\n",
    "print('Array:\\n', array)\n",
    "\n",
    "# b) a soma dos elementos das linhas do array\n",
    "\n",
    "soma = np.sum(array, axis=1, keepdims=True)\n",
    "print('Soma dos elementos das linhas do array:\\n', soma)\n",
    "\n",
    "# c) a multiplicação dos elementos das colunas do array\n",
    "\n",
    "mult = np.prod(array, axis=0, keepdims=True)\n",
    "print('Multiplicação dos elementos das colunas do array:\\n', mult)\n",
    "\n",
    "\n",
    "# d) a média de todos elementos do array\n",
    "\n",
    "media = np.mean(array)\n",
    "print('Média de todos elementos do array:\\n', media)\n",
    "\n",
    "\n",
    "# e) a média dos elementos das linhas do array\n",
    "\n",
    "media_linha = np.mean(array, axis=1, keepdims=True)\n",
    "print('Média dos elementos das linhas do array:\\n', media_linha)\n",
    "\n",
    "\n",
    "# f) a média dos elementos das colunas do array\n",
    "\n",
    "media_coluna = np.mean(array, axis=0, keepdims=True)\n",
    "print('Média dos elementos das colunas do array:\\n', media_coluna)\n",
    "\n",
    "\n",
    "# g) o desvio padrão de todos elementos do array\n",
    "\n",
    "desvio = np.std(array)\n",
    "print('Desvio padrão de todos elementos do array:\\n', desvio)\n",
    "\n",
    "\n",
    "# h) o desvio padrão das linhas do array\n",
    "\n",
    "desvio_linha = np.std(array, axis=1, keepdims=True)\n",
    "print('Desvio padrão das linhas do array:\\n', desvio_linha)\n",
    "\n",
    "\n",
    "# i) o desvio padrão dos elementos das colunas do array\n",
    "\n",
    "desvio_coluna = np.std(array, axis=0, keepdims=True)\n",
    "print('Desvio padrão das colunas do array:\\n', desvio_coluna)\n",
    "\n"
   ]
  },
  {
   "cell_type": "markdown",
   "metadata": {
    "colab_type": "text",
    "id": "IyvWrkvFV_Ik"
   },
   "source": [
    "Uma operação muito comum em diversos contextos consiste em encontrar a transposta de uma matriz, que nada mais é que girar a matriz no eixo diagonal principal.\n",
    "\n",
    "Para realizar isso no numpy, basta utilizar o atributo **T** do array, conforme exemplo abaixo:"
   ]
  },
  {
   "cell_type": "code",
   "execution_count": 0,
   "metadata": {
    "colab": {},
    "colab_type": "code",
    "id": "0h_-NUB8V_Im"
   },
   "outputs": [],
   "source": [
    "# numpy código 12\n",
    "\n",
    "import numpy as np\n",
    "\n",
    "a = np.array([[1,2], [3, 4], [5, 6]])\n",
    "\n",
    "print(\"matriz a:\")\n",
    "print(a)\n",
    "print(\"matriz a transposta:\")\n",
    "print(a.T)"
   ]
  },
  {
   "cell_type": "markdown",
   "metadata": {
    "colab_type": "text",
    "id": "TFbElQgdV_Is"
   },
   "source": [
    "A função abaixo, fornecida pelo Numpy, permite a leitura de arquivos com dados (todos do mesmo tipo) para um array."
   ]
  },
  {
   "cell_type": "code",
   "execution_count": 0,
   "metadata": {
    "colab": {},
    "colab_type": "code",
    "id": "HNmSj_llV_It",
    "scrolled": true
   },
   "outputs": [],
   "source": [
    "# numpy código 13\n",
    "\n",
    "import numpy as np\n",
    "\n",
    "arr = np.loadtxt('dados.csv',delimiter=',',dtype=np.float64)\n",
    "\n",
    "print(arr)\n",
    "print(np.average(arr,axis=1))\n",
    "print (np.std(arr, axis=1))\n"
   ]
  },
  {
   "cell_type": "markdown",
   "metadata": {
    "colab_type": "text",
    "id": "nwAAfn-QV_Iv"
   },
   "source": [
    "\n",
    "# 3. Matplotlib\n",
    "---------------\n",
    "\n",
    "O [Matplotlib](http://matplotlib.org/) é uma biblioteca para produção de gráficos.\n",
    "Nesta seção, faremos uma breve introdução ao módulo **matplotlib.pyplot**.\n",
    "\n",
    "**3.1 Plotando Gráficos de Funções**\n",
    "\n",
    "Uma das funções mais importantes do matplotlib é a **plot**, que permite plotar dados 2D. Observe o exemplo abaixo.\n",
    "\n",
    "**GRÁFICO 1**\n"
   ]
  },
  {
   "cell_type": "code",
   "execution_count": 0,
   "metadata": {
    "colab": {},
    "colab_type": "code",
    "id": "lDfo0q-jV_Iw",
    "scrolled": true
   },
   "outputs": [],
   "source": [
    "# **GRÁFICO 1**\n",
    "\n",
    "import numpy as np\n",
    "import matplotlib.pyplot as plt\n",
    "\n",
    "%matplotlib inline\n",
    "# o comando acima faz com que os gráficos gerados pelo matplotlib \n",
    "# sejam mostrados nesta página e não em uma janela separada\n",
    "\n",
    "# Compute the x and y coordinates for points on a sine curve\n",
    "x = np.arange(0, 3 * np.pi, 0.2)\n",
    "print(\"x é um array do numpy gerado com a função \\\"np.arange(0, 3 * np.pi, 0.2)\\\"\")\n",
    "print(x)\n",
    "y = np.sin(x)\n",
    "print(\"y também é um array do numpy calculado a partir de x - \\\"y = np.sin(x)\\\"\")\n",
    "print(y)\n",
    "      \n",
    "# Plot the points using matplotlib\n",
    "plt.plot(x, y)\n",
    "plt.show()  # You must call plt.show() to make graphics appear.\n",
    "\n"
   ]
  },
  {
   "cell_type": "markdown",
   "metadata": {
    "colab_type": "text",
    "id": "6CO8thuQV_Iz"
   },
   "source": [
    "Com poucos ajustes é possível traçar múltiplas linhas de uma vez e adicionar um título, legendas e rótulos das coordenadas.\n",
    "\n",
    "**GRÁFICO 2**"
   ]
  },
  {
   "cell_type": "code",
   "execution_count": 0,
   "metadata": {
    "colab": {},
    "colab_type": "code",
    "id": "r-uCu_kUV_I1"
   },
   "outputs": [],
   "source": [
    "# **GRÁFICO 2**\n",
    "\n",
    "import numpy as np\n",
    "import matplotlib\n",
    "import matplotlib.pyplot as plt\n",
    "\n",
    "# computando coordenadas x e y\n",
    "x = np.arange(0, 3 * np.pi, 0.1)\n",
    "y_sin = np.sin(x)\n",
    "y_cos = np.cos(x)\n",
    "y_001x2 = 0.01 * x**2\n",
    "\n",
    "# Plota os pontos usando matplotlib\n",
    "plt.plot(x, y_sin)\n",
    "plt.plot(x, y_cos)\n",
    "plt.plot(x, y_001x2)\n",
    "plt.xlabel('rótulo do eixo x')\n",
    "plt.ylabel('rótulo do eixo y')\n",
    "plt.title('Seno, cosseno e 0.01x²')\n",
    "plt.legend(['Seno', 'Cosseno', '0.01x²'])\n",
    "\n",
    "# os 2 comandos abaixo ajustam o tamanho do gráfico exibido\n",
    "fig = matplotlib.pyplot.gcf()\n",
    "fig.set_size_inches(10, 6)\n",
    "\n",
    "plt.show()\n",
    "\n"
   ]
  },
  {
   "cell_type": "markdown",
   "metadata": {
    "colab_type": "text",
    "id": "Khog-BecV_I6"
   },
   "source": [
    "**3.2 Gráficos de barras**\n",
    "\n",
    "O exemplo a seguir, ilustra de forma básica os gráficos de barras verticais.\n",
    "\n",
    "**GRÁFICO 3**"
   ]
  },
  {
   "cell_type": "code",
   "execution_count": 0,
   "metadata": {
    "colab": {},
    "colab_type": "code",
    "id": "D_NasUSCV_I9",
    "scrolled": true
   },
   "outputs": [],
   "source": [
    "# **GRÁFICO 3**\n",
    "\n",
    "import matplotlib.pyplot as plt\n",
    "\n",
    "data = [5., 25., 50., 20.]\n",
    "\n",
    "\n",
    "print(\"barras verticais\")\n",
    "plt.bar(range(len(data)), data)\n",
    "plt.show()\n"
   ]
  },
  {
   "cell_type": "markdown",
   "metadata": {
    "colab_type": "text",
    "id": "27B4bAcvV_JB"
   },
   "source": [
    "Ou horizontais.\n",
    "\n",
    "**GRÁFICO 4**"
   ]
  },
  {
   "cell_type": "code",
   "execution_count": 0,
   "metadata": {
    "colab": {},
    "colab_type": "code",
    "id": "ob7u59CGV_JC",
    "scrolled": true
   },
   "outputs": [],
   "source": [
    "# **GRÁFICO 4**\n",
    "\n",
    "import matplotlib.pyplot as plt\n",
    "\n",
    "data = [5., 25., 50., 20.]\n",
    "\n",
    "print(\"barras horizontais\")\n",
    "plt.barh(range(len(data)), data, color='r')\n",
    "plt.show()"
   ]
  },
  {
   "cell_type": "markdown",
   "metadata": {
    "colab_type": "text",
    "id": "wDePPjX2V_JG"
   },
   "source": [
    "Neste último gráfico alteramos a cor das barras. Usamor o 'r', que é a cor vermelha.\n",
    "\n",
    "O matplotlib possui algumas cores predefinidas:\n",
    "* 'b': blue.\n",
    "* 'g': green.\n",
    "* 'r': red.\n",
    "* 'c': cyan.\n",
    "* 'm': magenta.\n",
    "* 'y': yellow.\n",
    "* 'k': black.\n",
    "* 'w': white.\n",
    "\n",
    "Você também pode usar uma cor específica utilizando a combinação de vermelho, verde e azul ('#xxyyzz').\n",
    "\n",
    "Os valores xx, yy e zz são a intensidade do vermelho, verde e azul, e podem variar de 00 a FF (código hexadecimal -cada dígito pode ter valor 0, 1, 2, 3, 4, 5, 6, 7, 8, 9, A, B, C, D, E, F).\n",
    "\n",
    "O laranja, por exemplo, é '#FF7F50'.<br>\n",
    "Alguns tons de cinza: [escuro - '#555555'] ; [médio - '#7F7F7F'] ; [claro - '#B0B0B0']\n",
    "\n",
    "Na célula abaixo, teste algumas cores.\n",
    "\n",
    "**GRÁFICO 5**\n"
   ]
  },
  {
   "cell_type": "code",
   "execution_count": 0,
   "metadata": {
    "colab": {},
    "colab_type": "code",
    "id": "x_zjq1CHV_JG"
   },
   "outputs": [],
   "source": [
    "# **GRÁFICO 5**\n",
    "\n",
    "import matplotlib.pyplot as plt\n",
    "\n",
    "data = [5., 25., 50., 20.]\n",
    "\n",
    "print(\"barras horizontais\")\n",
    "plt.barh(range(len(data)), data, color='#FF7F50')\n",
    "plt.show()"
   ]
  },
  {
   "cell_type": "markdown",
   "metadata": {
    "colab_type": "text",
    "id": "9VROR4doV_JK"
   },
   "source": [
    "Com poucas alterações, é possível imprimir um gráfico de múltiplas barras, com legenda, título, cores, etc.\n",
    "\n",
    "Observe que **cada cor de barra é uma linha do array *dados*** \n",
    "\n",
    "**GRÁFICO 6**"
   ]
  },
  {
   "cell_type": "code",
   "execution_count": 0,
   "metadata": {
    "colab": {},
    "colab_type": "code",
    "id": "p382glvCV_JL",
    "scrolled": false
   },
   "outputs": [],
   "source": [
    "# **GRÁFICO 6**\n",
    "\n",
    "import numpy as np\n",
    "import matplotlib\n",
    "import matplotlib.pyplot as plt\n",
    "\n",
    "\n",
    "colunas = ['2013', '2014', '2015', '2016']\n",
    "\n",
    "dados = np.array([[5., 7., 9., 8.],\n",
    "  [14., 20., 23., 27.],\n",
    "  [25., 22., 15., 12.]], dtype=np.float64)\n",
    "\n",
    "X = np.arange(4)\n",
    "\n",
    "# plt.bar( coordenada X, coordenada Y, cor, comprimento da barra)\n",
    "plt.bar(X + 0.00, dados[0], color = 'b', width = 0.267)\n",
    "plt.bar(X + 0.267, dados[1], color = 'g', width = 0.267)\n",
    "plt.bar(X + 0.533, dados[2], color = '#FF7F50', width = 0.267)\n",
    "\n",
    "plt.xlabel('rótulo do eixo x')\n",
    "plt.ylabel('rótulo do eixo y')\n",
    "plt.title('gráfico de multiplas barras')\n",
    "plt.legend(['Legenda 1', 'Legenda 2', 'Legenda 3'])\n",
    "plt.xticks(np.arange(0, 4)+0.25, colunas)\n",
    "\n",
    "fig = matplotlib.pyplot.gcf()\n",
    "fig.set_size_inches(12, 6)\n",
    "\n",
    "plt.show()\n"
   ]
  },
  {
   "cell_type": "markdown",
   "metadata": {
    "colab_type": "text",
    "id": "ejJ0apdmV_JN"
   },
   "source": [
    "O código abaixo exibe o mesmo conteúdo do **GRÁFICO 6**, mas no entanto imprime as barras dentro de um loop *for*.\n",
    "\n",
    "Observe atentamente as alterações.\n",
    "\n",
    "**GRÁFICO 7**"
   ]
  },
  {
   "cell_type": "code",
   "execution_count": 0,
   "metadata": {
    "colab": {},
    "colab_type": "code",
    "id": "fJIljYT3V_JO",
    "scrolled": true
   },
   "outputs": [],
   "source": [
    "# **GRÁFICO 7**\n",
    "\n",
    "import numpy as np\n",
    "import matplotlib\n",
    "import matplotlib.pyplot as plt\n",
    "\n",
    "colunas = ['2013', '2014', '2015', '2016']\n",
    "\n",
    "dados = np.array([[5., 7., 9., 8.],\n",
    "  [14., 20., 23., 27.],\n",
    "  [25., 22., 15., 12.]], dtype=np.float64)\n",
    "\n",
    "# alteração 1 - X depende do número de colunas de dados\n",
    "# então, em vez de colocar uma constante 4, usamos dados.shape[1]\n",
    "X = np.arange(dados.shape[1])\n",
    "\n",
    "# alteração 2 - podemos colocar as cores em uma lista\n",
    "cores = ['b', 'g', '#FF7F50']\n",
    "\n",
    "# alteração 3 - o número de barras corresponde ao número de linhas do array dados\n",
    "# assim, as barras podem ser impressas em um for (usando dados.shape[0])\n",
    "# no gráfico atual, escolhemos o width=0.267 porque existem 3 barras, assim as\n",
    "# 3 barras ocupam 80% do espaço e os outros 20% ficam livres separando um conjunto\n",
    "# de barras do outro. Essa divisão pode ser feita automaticamente\n",
    "compr = 0.8/(dados.shape[0])\n",
    "for i in range(0, dados.shape[0]):\n",
    "    plt.bar(X + compr*i, dados[i], color = cores[i], width = compr)\n",
    "\n",
    "plt.xlabel('rótulo do eixo x')\n",
    "plt.ylabel('rótulo do eixo y')\n",
    "plt.title('gráfico de multiplas barras')\n",
    "plt.legend(['Legenda 1', 'Legenda 2', 'Legenda 3'])\n",
    "# alteração 4 - legenda dos grupos de barras depende no número de colunas\n",
    "plt.xticks(np.arange(0, len(colunas))+0.25, colunas)\n",
    "\n",
    "fig = matplotlib.pyplot.gcf()\n",
    "fig.set_size_inches(12, 6)\n",
    "\n",
    "plt.show()"
   ]
  },
  {
   "cell_type": "markdown",
   "metadata": {
    "colab_type": "text",
    "id": "2rRPykc9V_JQ"
   },
   "source": [
    "**Exercício 5**\n",
    "\n",
    "Altere o código abaixo para incluir o ano de 2017: \n",
    "    * alterar colunas\n",
    "    * alterar dados: (incluir valores de 2017 na última coluna de cada linha)\n",
    "    \n",
    "Crie também mais uma barra, de cor vermelha 'r':\n",
    "    * altere *dados*: incluir mais uma linha\n",
    "    * altere *cores*\n",
    "    * e altere a legenda: incluindo 'Nova legenda'\n"
   ]
  },
  {
   "cell_type": "code",
   "execution_count": 0,
   "metadata": {
    "colab": {},
    "colab_type": "code",
    "id": "2lq2ScxZV_JQ"
   },
   "outputs": [],
   "source": [
    "# Exercício 5 - altere o código abaixo conforme instruções\n",
    "\n",
    "import numpy as np\n",
    "import matplotlib\n",
    "import matplotlib.pyplot as plt\n",
    "\n",
    "# >>>> inclua nova coluna\n",
    "colunas = ['2013', '2014', '2015', '2016']\n",
    "\n",
    "# >>>> altere dados\n",
    "dados = np.array([[5., 7., 9., 8.],\n",
    "  [14., 20., 23., 27.],\n",
    "  [25., 22., 15., 12.]], dtype=np.float64)\n",
    "\n",
    "X = np.arange(dados.shape[1])\n",
    "\n",
    "# >>>> inclua nova cor\n",
    "cores = ['b', 'g', '#FF7F50']\n",
    "\n",
    "compr = 0.8/(dados.shape[0])\n",
    "for i in range(0, dados.shape[0]):\n",
    "    plt.bar(X + compr*i, dados[i], color = cores[i], width = compr)\n",
    "\n",
    "plt.xlabel('rótulo do eixo x')\n",
    "plt.ylabel('rótulo do eixo y')\n",
    "plt.title('gráfico de multiplas barras')\n",
    "# >>>> inclua nova legenda\n",
    "plt.legend(['Legenda 1', 'Legenda 2', 'Legenda 3'])\n",
    "plt.xticks(np.arange(0, len(colunas))+0.25, colunas)\n",
    "\n",
    "fig = matplotlib.pyplot.gcf()\n",
    "fig.set_size_inches(12, 6)\n",
    "\n",
    "plt.show()"
   ]
  },
  {
   "cell_type": "markdown",
   "metadata": {
    "colab_type": "text",
    "id": "XwP1sKHXV_JS"
   },
   "source": [
    "Uma outra forma de representar os dados do GRÁFICO 7 exibido acima é com pontos.\n",
    "\n",
    "**Observe** o resultado da instrução *plt.ylim((0, 50))*.\n",
    "\n",
    "Neste exemplo utilizamos estilos de linhas diferentes (para fins didáticos). A depender da situação você pode escolher não usar linhas (basta remover o parâmetro linestyle ou usar todas linhas do mesmo tipo,\n",
    "\n",
    "Utilizamos 3 marcadores diferentes. Uma lista de marcadores está disponível na documentação do matplotlib: [clique aqui para verificar](https://matplotlib.org/api/markers_api.html)\n",
    "\n",
    "Alguns valores comuns são:<br>\n",
    "\"o\"\tcircle<br>\n",
    "\"v\"\ttriangle_down<br>\n",
    "\"^\"\ttriangle_up<br>\n",
    "\"<\"\ttriangle_left<br>\n",
    "\"s\"\tsquare<br>\n",
    "\"p\"\tpentagon<br>\n",
    "\"P\"\tplus (filled)<br>\n",
    "\"\\*\"\tstar<br>\n",
    "\"h\"\thexagon1<br>\n",
    "\"H\"\thexagon2<br>\n",
    "\"+\"\tplus<br>\n",
    "\"x\"\tx<br>\n",
    "\"X\"\tx (filled)<br>\n",
    "\"D\"\tdiamond<br>\n",
    "\"d\"\tthin_diamond<br>\n",
    "\n",
    "**GRÁFICO 8**"
   ]
  },
  {
   "cell_type": "code",
   "execution_count": 0,
   "metadata": {
    "colab": {},
    "colab_type": "code",
    "id": "kkAILIsnV_JT"
   },
   "outputs": [],
   "source": [
    "# **GRÁFICO 8**\n",
    "\n",
    "import numpy as np\n",
    "import matplotlib\n",
    "import matplotlib.pyplot as plt\n",
    "\n",
    "colunas = ['2013', '2014', '2015', '2016']\n",
    "\n",
    "dados = np.array([[5., 7., 9., 8.],\n",
    "  [14., 20., 23., 27.],\n",
    "  [25., 22., 15., 12.]], dtype=np.float64)\n",
    "\n",
    "X = np.arange(dados.shape[1])\n",
    "\n",
    "cores = ['b', 'g', '#FF7F50']\n",
    "\n",
    "# precisamos especificar os marcadores e as linhas de cada linha de dados\n",
    "marcadores = ['s', 'o', 'v']\n",
    "linhas = ['--', ':', '-.']\n",
    "for i in range(0, dados.shape[0]):\n",
    "    plt.plot(X, dados[i], marker=marcadores[i], linestyle=linhas[i], color=cores[i])\n",
    "\n",
    "# função ylim\n",
    "plt.ylim((0, 50))\n",
    "\n",
    "plt.xlabel('rótulo do eixo x')\n",
    "plt.ylabel('rótulo do eixo y')\n",
    "plt.title('gráfico de pontos')\n",
    "plt.legend(['Legenda 1', 'Legenda 2', 'Legenda 3'])\n",
    "\n",
    "# mudamos a posição do xtick para coincidir com o ponto\n",
    "plt.xticks(np.arange(0, len(colunas)), colunas)\n",
    "\n",
    "fig = matplotlib.pyplot.gcf()\n",
    "fig.set_size_inches(12, 6)\n",
    "\n",
    "plt.show()"
   ]
  },
  {
   "cell_type": "markdown",
   "metadata": {
    "colab_type": "text",
    "id": "jq9EXuVjV_JV"
   },
   "source": [
    "Também é possível desenhar gráficos de barras empilhadas (*stacked bar charts*).\n",
    "\n",
    "**GRÁFICO 9**"
   ]
  },
  {
   "cell_type": "code",
   "execution_count": 0,
   "metadata": {
    "colab": {},
    "colab_type": "code",
    "id": "dAex5-t2V_JW",
    "scrolled": true
   },
   "outputs": [],
   "source": [
    "# **GRÁFICO 9**\n",
    "\n",
    "import matplotlib.pyplot as plt\n",
    "import matplotlib\n",
    "\n",
    "A = [5., 30., 45., 17.]\n",
    "B = [5., 25., 50., 55.]\n",
    "\n",
    "X = range(4)\n",
    "\n",
    "plt.bar(X, A, color = 'b')\n",
    "plt.bar(X, B, color = 'y', bottom = A)\n",
    "\n",
    "plt.xlabel('rótulo do eixo x')\n",
    "plt.ylabel('rótulo do eixo y')\n",
    "plt.title('gráfico de barras empilhadas')\n",
    "plt.legend(['Azul', 'Amarelo'])\n",
    "\n",
    "# os 2 comandos abaixo ajustam o tamanho do gráfico exibido\n",
    "fig = matplotlib.pyplot.gcf()\n",
    "fig.set_size_inches(10, 6)\n",
    "\n",
    "plt.show()"
   ]
  },
  {
   "cell_type": "markdown",
   "metadata": {
    "colab_type": "text",
    "id": "I1aKqBezV_JY"
   },
   "source": [
    "O exemplo abaixo possui 3 barras empilhadas.\n",
    "\n",
    "**GRÁFICO 10**"
   ]
  },
  {
   "cell_type": "code",
   "execution_count": 0,
   "metadata": {
    "colab": {},
    "colab_type": "code",
    "id": "fuczSdgzV_JZ"
   },
   "outputs": [],
   "source": [
    "# **GRÁFICO 10** \n",
    "\n",
    "import numpy as np\n",
    "import matplotlib\n",
    "import matplotlib.pyplot as plt\n",
    "\n",
    "# Dados armazenados num array do numpy\n",
    "data = np.array([[5., 30., 45., 22.],\n",
    "                 [5., 25., 50., 20.],\n",
    "                 [61.,  12.,  1.,  1.]])\n",
    "\n",
    "# lista de cores\n",
    "color_list = ['b', 'g', 'y']\n",
    "\n",
    "X = np.arange(data.shape[1]) # equivale a X = np.array([0, 1, 2, 3])\n",
    "\n",
    "# o for plota as 3 barras \n",
    "for i in range(data.shape[0]):\n",
    "  plt.bar(X, data[i],\n",
    "    bottom = np.sum(data[:i], axis = 0),\n",
    "    color = color_list[i % len(color_list)])\n",
    "\n",
    "plt.xlabel('rótulo do eixo x')\n",
    "plt.ylabel('rótulo do eixo y')\n",
    "plt.title('gráfico de barras empilhadas')\n",
    "plt.legend(['Azul', 'Verde', 'Amarelo'])\n",
    "\n",
    "# os 2 comandos abaixo ajustam o tamanho do gráfico exibido\n",
    "fig = matplotlib.pyplot.gcf()\n",
    "fig.set_size_inches(10, 8)\n",
    "\n",
    "plt.show()"
   ]
  },
  {
   "cell_type": "markdown",
   "metadata": {
    "colab_type": "text",
    "id": "y4eN29irV_Jc"
   },
   "source": [
    "No exemplo abaixo, usamos o numpy para ler os resultados de um experimento usando 5 métodos distintos.\n",
    "\n",
    "O arquivo dados.csv contém resultados de 5 métodos testados em um experimento (um em cada linha).<br>\n",
    "Cada linha do arquivo dados.csv contém 11 resultados de um método testado. Os valores estão separados por vírgula.<br>\n",
    "\n",
    "88.5,88.4,88.4,88.5,89.0,86.4,88.4,89.1,88.9,86.4,87.2<br>\n",
    "85.7,85.7,85.7,85.7,85.7,85.7,85.7,85.7,85.7,85.7,85.7<br>\n",
    "84.5,88.9,88.9,86.2,86.8,85.3,87.9,87.3,88.9,84.6,87.2<br>\n",
    "86.5,85.4,87.6,84.9,87.3,88.5,86.7,85.4,85.8,88.3,87.2<br>\n",
    "87.5,89.4,86.5,82.4,89.1,86.8,87.4,88.5,88.9,88.9,87.2<br>\n",
    "\n",
    "**GRÁFICO 11**"
   ]
  },
  {
   "cell_type": "code",
   "execution_count": 0,
   "metadata": {
    "colab": {},
    "colab_type": "code",
    "id": "VmaN3KOwV_Jd",
    "scrolled": true
   },
   "outputs": [],
   "source": [
    "# **GRÁFICO 11**\n",
    "\n",
    "import numpy as np\n",
    "import matplotlib\n",
    "import matplotlib.pyplot as plt\n",
    "\n",
    "arr = np.loadtxt('dados.csv',delimiter=',',dtype=np.float64)\n",
    "\n",
    "X = np.arange(5)\n",
    "\n",
    "cores = ['r', 'g', 'b', 'y', 'c']\n",
    "\n",
    "for i in range(0, 5):\n",
    "    # plt.bar( coordenada X, coordenada Y, cor, comprimento da barra)\n",
    "    plt.bar(X[i] + 0.2, np.average( arr[i,:] ), color=cores[i], width = 0.6)\n",
    "    \n",
    "plt.ylim((0,119))\n",
    "plt.xlim=((0,7))\n",
    "plt.xlabel('rótulo do eixo x')\n",
    "plt.ylabel('rótulo do eixo y')\n",
    "plt.title('gráfico de barras')\n",
    "plt.legend(['Método 1', 'Método 2', 'Método 3', 'Método 4', 'Método 5'])\n",
    "\n",
    "\n",
    "# os 2 comandos abaixo ajustam o tamanho do gráfico exibido\n",
    "fig = matplotlib.pyplot.gcf()\n",
    "fig.set_size_inches(10, 6)\n",
    "\n",
    "plt.show()\n"
   ]
  },
  {
   "cell_type": "markdown",
   "metadata": {
    "colab_type": "text",
    "id": "Pp6zcEPVV_Jf"
   },
   "source": [
    "O numpy fornece uma função para plotar histogramas. \n",
    "\n",
    "O parêmetro bins indica o número de divisões dos valores fornecidos para a função.\n",
    "\n",
    "A função hist recebe como entrada uma lista de valores e **a faixa** dos valores é dividida igualmente pelo número de bins informado. \n",
    "\n",
    "O gráfico gerado terá uma barra para cada bin. A altura de cada barra é o número de valores correspondente a cada bin.\n",
    "\n",
    "**GRÁFICO 12**"
   ]
  },
  {
   "cell_type": "code",
   "execution_count": 0,
   "metadata": {
    "colab": {},
    "colab_type": "code",
    "id": "1GpEhUC-V_Jg",
    "scrolled": false
   },
   "outputs": [],
   "source": [
    "# **GRÁFICO 12**\n",
    "\n",
    "import numpy as np\n",
    "import matplotlib.pyplot as plt\n",
    "\n",
    "# observe que o não existe nenhum valor 5.\n",
    "# os valores não precisariam estar ordenados - na lista abaixo isso\n",
    "# é feito apenas para fins didáticos\n",
    "X = np.array([0., 0., 1., 1., 1., 2., 2., 3.,\n",
    "              4., 6., 7., 7., 7., 7., 7., 7., 7., 7., 7., 7., 7.,\n",
    "              8., 8., 8., 9.])\n",
    "\n",
    "plt.hist(X, bins = 10)\n",
    "\n",
    "plt.show()"
   ]
  },
  {
   "cell_type": "markdown",
   "metadata": {
    "colab_type": "text",
    "id": "GbpwX3pZV_Ji"
   },
   "source": [
    "\n",
    "Se informássemos o número de bins igual a 5, a função automaticamente agregaria os valores\n",
    "0-1, 2-3, 4-5, 6-7, 8-9\n",
    "\n",
    "**GRÁFICO 13**"
   ]
  },
  {
   "cell_type": "code",
   "execution_count": 0,
   "metadata": {
    "colab": {},
    "colab_type": "code",
    "id": "b1F2CVo_V_Jj"
   },
   "outputs": [],
   "source": [
    "# **GRÁFICO 13**\n",
    "\n",
    "import numpy as np\n",
    "import matplotlib.pyplot as plt\n",
    "\n",
    "X = np.array([0., 0., 1., 1., 1., 2., 2., 3.,\n",
    "              4., 6., 7., 7., 7., 7., 7., 7., 7., 7., 7., 7., 7.,\n",
    "              8., 8., 8., 9.])\n",
    "\n",
    "# a única mudança desse gráfico em relação ao 12 é que informamos o número de bins igual a 5\n",
    "plt.hist(X, bins = 5)\n",
    "\n",
    "plt.show()"
   ]
  },
  {
   "cell_type": "markdown",
   "metadata": {
    "colab_type": "text",
    "id": "QxaPYRuQV_Jk"
   },
   "source": [
    "Por fim, vamos exemplificar um gráfico de dispersão (*scatterplot*) simples.\n",
    "\n",
    "**GRÁFICO 14**\n"
   ]
  },
  {
   "cell_type": "code",
   "execution_count": 0,
   "metadata": {
    "colab": {},
    "colab_type": "code",
    "id": "XH0GZAAXV_Jl",
    "scrolled": false
   },
   "outputs": [],
   "source": [
    "# ** GRÁFICO 14 **\n",
    "\n",
    "import numpy as np\n",
    "import matplotlib\n",
    "import matplotlib.pyplot as plt\n",
    "\n",
    "num_points = 100\n",
    "gradient = 0.5\n",
    "x = np.array(range(num_points))\n",
    "# dados gerados aleatoriamente, para exemplificar\n",
    "y = np.random.randn(num_points) * 10 + x*gradient\n",
    "\n",
    "fig = matplotlib.pyplot.gcf()\n",
    "fig.set_size_inches(10, 6)\n",
    "plt.title('Um gráfico de dispersão simples')\n",
    "\n",
    "sc =plt.scatter(x, y)\n",
    "\n",
    "plt.show()"
   ]
  },
  {
   "cell_type": "markdown",
   "metadata": {
    "colab_type": "text",
    "id": "h_s55VYxV_Jn"
   },
   "source": [
    "As cores e o tamanho dos pontos podem ser customizados.\n",
    "\n",
    "Você pode escolher um mapa de cor com a instução:\n",
    "```python\n",
    "plt.rcParams['image.cmap'] = 'viridis'\n",
    "```\n",
    "\n",
    "Existem diversos mapas de cores diponíveis: 'viridis', 'plasma', 'inferno', 'magma', 'gray', dentre outros.\n",
    "\n",
    "** GRÁFICO 15 **"
   ]
  },
  {
   "cell_type": "code",
   "execution_count": 0,
   "metadata": {
    "colab": {},
    "colab_type": "code",
    "id": "dlpa0MjzV_Jn"
   },
   "outputs": [],
   "source": [
    "# ** GRÁFICO 15 **\n",
    "\n",
    "import numpy as np\n",
    "import matplotlib\n",
    "import matplotlib.pyplot as plt\n",
    "\n",
    "num_points = 100\n",
    "gradient = 0.5\n",
    "x = np.array(range(num_points))\n",
    "# dados gerados aleatoriamente, para exemplificar\n",
    "y = np.random.randn(num_points) * 10 + x*gradient\n",
    "\n",
    "fig = matplotlib.pyplot.gcf()\n",
    "fig.set_size_inches(10, 6)\n",
    "plt.title('Um gráfico de dispersão com cores e tamanho variados')\n",
    "\n",
    "# escolhe o mapa de cores 'viridis'\n",
    "plt.rcParams['image.cmap'] = 'viridis'\n",
    "\n",
    "# cores geradas aleatoriamente: função produz 100 cores randômicas do mapa de cores padrão\n",
    "colors = np.random.rand(num_points)\n",
    "\n",
    "# definimos o tamanho dos marcadores: (2 + pontos*8)²\n",
    "size = (2 + np.random.rand(num_points) * 8) ** 2\n",
    "\n",
    "sc =plt.scatter(x, y, s=size, c=colors, alpha=0.5)\n",
    "\n",
    "plt.show()"
   ]
  },
  {
   "cell_type": "markdown",
   "metadata": {
    "colab_type": "text",
    "id": "oApEbO5eV_Jr"
   },
   "source": [
    "# Aproveitem o conhecimento !"
   ]
  }
 ],
 "metadata": {
  "colab": {
   "name": "11-numpy_matplotlib.ipynb",
   "provenance": []
  },
  "kernelspec": {
   "display_name": "Python 3",
   "language": "python",
   "name": "python3"
  },
  "language_info": {
   "codemirror_mode": {
    "name": "ipython",
    "version": 3
   },
   "file_extension": ".py",
   "mimetype": "text/x-python",
   "name": "python",
   "nbconvert_exporter": "python",
   "pygments_lexer": "ipython3",
   "version": "3.6.5"
  }
 },
 "nbformat": 4,
 "nbformat_minor": 1
}
